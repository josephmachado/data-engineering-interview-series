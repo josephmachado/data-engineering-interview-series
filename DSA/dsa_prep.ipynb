{
 "cells": [
  {
   "cell_type": "markdown",
   "id": "f7e36425-396e-47f6-b5f4-444527541874",
   "metadata": {},
   "source": [
    "# DSA Prep"
   ]
  },
  {
   "cell_type": "markdown",
   "id": "a22e5641-d10f-4f64-9cb5-81f5914c386b",
   "metadata": {},
   "source": [
    "## Basics Data Structures\n",
    "\n",
    "Understanding basic data structures are essential to implement answers to DSA questions."
   ]
  },
  {
   "cell_type": "markdown",
   "id": "2a8d5faa-a660-4ec1-b1e1-02cc5c186b31",
   "metadata": {},
   "source": [
    "### List\n",
    "\n",
    "**Description:** A list is a dynamic array that allows you to store a sequence of elements. It supports indexing, slicing, and various methods for manipulating the data.\n",
    "\n",
    "**Time Complexity:**\n",
    "1. Read: O(1) - Accessing an element by index is fast and takes constant time.\n",
    "2. Write: O(1) - Appending an element is usually O(1), but inserting or removing can be O(n) due to shifting elements."
   ]
  },
  {
   "cell_type": "code",
   "execution_count": 1,
   "id": "989d8b6a-09dd-4bba-8605-6615f2cc3b44",
   "metadata": {},
   "outputs": [
    {
     "name": "stdout",
     "output_type": "stream",
     "text": [
      "[1, 2, 4, 5, 6]\n"
     ]
    }
   ],
   "source": [
    "my_list = [1, 2, 3, 4, 5]\n",
    "# Accessing an element\n",
    "element = my_list[2]  # element = 3\n",
    "\n",
    "# Adding an element\n",
    "my_list.append(6)  # my_list = [1, 2, 3, 4, 5, 6]\n",
    "\n",
    "# Removing an element\n",
    "my_list.remove(3)  # my_list = [1, 2, 4, 5, 6]\n",
    "print(my_list)\n",
    "\n",
    "# sort list in place\n",
    "my_list.sort()"
   ]
  },
  {
   "cell_type": "code",
   "execution_count": 3,
   "id": "e1934622-c0c9-4633-ad66-ea7abf8649f4",
   "metadata": {},
   "outputs": [
    {
     "name": "stdout",
     "output_type": "stream",
     "text": [
      "Use enumerate to get index: 0 and element: 1\n",
      "Use enumerate to get index: 1 and element: 2\n",
      "Use enumerate to get index: 2 and element: 4\n",
      "Use enumerate to get index: 3 and element: 5\n",
      "Use enumerate to get index: 4 and element: 6\n",
      "Use loop directly to loop through elements: 1\n",
      "Use loop directly to loop through elements: 2\n",
      "Use loop directly to loop through elements: 4\n",
      "Use loop directly to loop through elements: 5\n",
      "Use loop directly to loop through elements: 6\n"
     ]
    }
   ],
   "source": [
    "# Iterate through a list\n",
    "\n",
    "for idx, elt in enumerate(my_list):\n",
    "    print(f'Use enumerate to get index: {idx} and element: {elt}')\n",
    "\n",
    "for elt in my_list:\n",
    "    print(f'Use loop directly to loop through elements: {elt}')"
   ]
  },
  {
   "cell_type": "markdown",
   "id": "063fe3d0-e213-4952-b64a-6559d00687a5",
   "metadata": {},
   "source": [
    "### Dictionary\n",
    "\n",
    "**Description:** A dictionary is an unordered collection of key-value pairs. It allows for fast lookups, insertions, and deletions based on keys.\n",
    "\n",
    "**Time Complexity:**\n",
    "1. Read: O(1) - Accessing a value by key is fast due to the underlying hash table.\n",
    "2. Write: O(1) - Inserting or deleting a key-value pair is also fast, thanks to the hash table.\n"
   ]
  },
  {
   "cell_type": "code",
   "execution_count": 4,
   "id": "5f85155a-cafa-45bd-9003-1e855eba2b7e",
   "metadata": {},
   "outputs": [
    {
     "name": "stdout",
     "output_type": "stream",
     "text": [
      "{'b': 2, 'c': 3, 'd': 4}\n"
     ]
    }
   ],
   "source": [
    "my_dict = {'a': 1, 'b': 2, 'c': 3}\n",
    "# Accessing a value\n",
    "value = my_dict['b']  # value = 2\n",
    "\n",
    "# Adding a key-value pair\n",
    "my_dict['d'] = 4  # my_dict = {'a': 1, 'b': 2, 'c': 3, 'd': 4}\n",
    "\n",
    "# Removing a key-value pair\n",
    "del my_dict['a']  # my_dict = {'b': 2, 'c': 3, 'd': 4}\n",
    "print(my_dict)"
   ]
  },
  {
   "cell_type": "markdown",
   "id": "bebbfe20-d92e-422a-a7ed-8fbf282ad3af",
   "metadata": {},
   "source": [
    "### Queue\n",
    "\n",
    "**Description:** A queue is a linear data structure that follows the First-In-First-Out (FIFO) principle. Elements are added at the rear and removed from the front.\n",
    "\n",
    "**Time Complexity:**\n",
    "1. Read: O(1) - Accessing the front element is O(1) if using deque.\n",
    "2. Write: O(1) - Enqueuing (adding) and dequeuing (removing) operations are O(1) with deque."
   ]
  },
  {
   "cell_type": "code",
   "execution_count": 5,
   "id": "6cca6e38-f2d6-4633-b223-93bf7b40b9d5",
   "metadata": {},
   "outputs": [
    {
     "name": "stdout",
     "output_type": "stream",
     "text": [
      "The poped element is 1 and the remaining queue is deque([2, 3, 4])\n"
     ]
    }
   ],
   "source": [
    "from collections import deque\n",
    "\n",
    "queue = deque([1, 2, 3])\n",
    "# Adding an element\n",
    "queue.append(4)  # queue = deque([1, 2, 3, 4])\n",
    "\n",
    "# Removing an element\n",
    "element = queue.popleft()  # element = 1, queue = deque([2, 3, 4])\n",
    "print(f'The poped element is {element} and the remaining queue is {queue}')"
   ]
  },
  {
   "cell_type": "markdown",
   "id": "cb0255e5-ccd8-4527-80ef-ef0e55056115",
   "metadata": {},
   "source": [
    "### Stack\n",
    "\n",
    "**Description:** A stack is a linear data structure that follows the Last-In-First-Out (LIFO) principle. Elements are added and removed from the top.\n",
    "\n",
    "**Time Complexity:**\n",
    "1. Read: O(1) - Accessing the top element is O(1).\n",
    "2. Write: O(1) - Pushing (adding) and popping (removing) elements are O(1)."
   ]
  },
  {
   "cell_type": "code",
   "execution_count": 6,
   "id": "fd823fc4-851b-4fa0-8ef8-06e5cca832c0",
   "metadata": {},
   "outputs": [
    {
     "name": "stdout",
     "output_type": "stream",
     "text": [
      "The poped element is 4 and the remaining stack is [1, 2, 3]\n"
     ]
    }
   ],
   "source": [
    "stack = [1, 2, 3]\n",
    "# Adding an element (push)\n",
    "stack.append(4)  # stack = [1, 2, 3, 4]\n",
    "\n",
    "# Removing an element (pop)\n",
    "element = stack.pop()  # element = 4, stack = [1, 2, 3]\n",
    "print(f'The poped element is {element} and the remaining stack is {stack}')"
   ]
  },
  {
   "cell_type": "markdown",
   "id": "a4d2260c-35db-4874-a43f-f64acc52c49c",
   "metadata": {},
   "source": [
    "### Set\n",
    "**Description:** A set is an unordered collection of unique elements. Sets are useful for membership testing, removing duplicates from a sequence, and performing mathematical set operations like union, intersection, and difference.\n",
    "\n",
    "**Time Complexity:**\n",
    "1. Read: O(1) - Checking if an element is in the set (e.g., 4 in my_set) is O(1) on average.\n",
    "2. Write:\n",
    "    * Adding/Removing: O(1) - Adding or removing an element is O(1) on average.\n",
    "    * Set Operations:\n",
    "        1. Union: O(len(set1) + len(set2)) - Combining two sets into one.\n",
    "        2. Intersection: O(min(len(set1), len(set2))) - Finding common elements between two sets.\n",
    "        3. Difference: O(len(set1)) - Finding elements in one set but not in another.\n",
    "\n",
    "Sets are highly efficient for operations involving unique elements and membership checks, with average O(1) time complexity for most read and write operations."
   ]
  },
  {
   "cell_type": "code",
   "execution_count": 7,
   "id": "6b18379e-51df-4085-9961-be69d0c5359d",
   "metadata": {},
   "outputs": [
    {
     "name": "stdout",
     "output_type": "stream",
     "text": [
      " Here is my_set {1, 2, 4, 5, 6} and other_set {4, 5, 6, 7, 8}\n",
      " Here is union_set {1, 2, 4, 5, 6, 7, 8}\n",
      " Here is intersection_set {4, 5, 6}\n",
      " Here is difference_set {1, 2}\n"
     ]
    }
   ],
   "source": [
    "# Creating a set\n",
    "my_set = {1, 2, 3, 4, 5}\n",
    "\n",
    "# Adding an element\n",
    "my_set.add(6)  # my_set = {1, 2, 3, 4, 5, 6}\n",
    "\n",
    "# Removing an element\n",
    "my_set.remove(3)  # my_set = {1, 2, 4, 5, 6}\n",
    "\n",
    "# Checking membership\n",
    "is_in_set = 4 in my_set  # is_in_set = True\n",
    "\n",
    "# Set operations: union, intersection, difference\n",
    "other_set = {4, 5, 6, 7, 8}\n",
    "union_set = my_set.union(other_set)  # union_set = {1, 2, 4, 5, 6, 7, 8}\n",
    "intersection_set = my_set.intersection(other_set)  # intersection_set = {4, 5, 6}\n",
    "difference_set = my_set.difference(other_set)  # difference_set = {1, 2}\n",
    "\n",
    "print(f' Here is my_set {my_set} and other_set {other_set}')\n",
    "print(f' Here is union_set {union_set}')\n",
    "print(f' Here is intersection_set {intersection_set}')\n",
    "print(f' Here is difference_set {difference_set}')"
   ]
  },
  {
   "cell_type": "markdown",
   "id": "9362fe97-f8eb-4453-9142-339d6923a6a5",
   "metadata": {},
   "source": [
    "### Counter (from collections module)\n",
    "\n",
    "**Description:** Counter is a subclass of the dictionary in Python that helps count hashable objects. It is especially useful for counting the frequency of elements in an iterable.\n"
   ]
  },
  {
   "cell_type": "code",
   "execution_count": 8,
   "id": "e7fbd3bd-61e3-490a-9e7c-819622b54315",
   "metadata": {},
   "outputs": [
    {
     "name": "stdout",
     "output_type": "stream",
     "text": [
      "Counter({'apple': 3, 'banana': 2, 'orange': 1})\n"
     ]
    }
   ],
   "source": [
    "from collections import Counter\n",
    "\n",
    "# Creating a Counter from a list\n",
    "my_counter = Counter(['apple', 'banana', 'apple', 'orange', 'banana', 'apple'])\n",
    "\n",
    "print(my_counter)"
   ]
  },
  {
   "cell_type": "code",
   "execution_count": 9,
   "id": "110d7319-d16e-4d36-87d1-45b02eff46df",
   "metadata": {},
   "outputs": [],
   "source": [
    "from collections import defaultdict\n",
    "\n",
    "# used to create dictionary that has a default type, instead of none"
   ]
  },
  {
   "cell_type": "markdown",
   "id": "62c5fb1b-870f-4112-8c6d-14c56fa39ae9",
   "metadata": {},
   "source": [
    "### Heap"
   ]
  },
  {
   "cell_type": "code",
   "execution_count": 10,
   "id": "ec014a82-4bd7-459a-983e-9063785ca732",
   "metadata": {},
   "outputs": [
    {
     "data": {
      "text/plain": [
       "10"
      ]
     },
     "execution_count": 10,
     "metadata": {},
     "output_type": "execute_result"
    }
   ],
   "source": [
    "import heapq\n",
    "\n",
    "# by default this is a min heap, to get max heap multiply the number by -1 before inserting\n",
    "a = []\n",
    "heapq.heappush(a, 10)\n",
    "\n",
    "heapq.heappop(a)"
   ]
  },
  {
   "cell_type": "markdown",
   "id": "5b83ff88-3278-45d5-b5d3-97b738220c43",
   "metadata": {},
   "source": [
    "### Graph search "
   ]
  },
  {
   "cell_type": "markdown",
   "id": "fdfe3ee5-fe37-4b6e-9f85-56767f5a2825",
   "metadata": {},
   "source": [
    "#### DFS\n"
   ]
  },
  {
   "cell_type": "code",
   "execution_count": 11,
   "id": "a584ec01-724e-4e10-b945-969e363765e9",
   "metadata": {},
   "outputs": [
    {
     "name": "stdout",
     "output_type": "stream",
     "text": [
      "Iterative DFS: {'A', 'B', 'E', 'F', 'D', 'C'}\n",
      "Recursive DFS: {'A', 'B', 'F', 'E', 'D', 'C'}\n",
      "Iterative DFS from B: {'A', 'B', 'F', 'E', 'D', 'C'}\n",
      "Recursive DFS from B: {'A', 'B', 'E', 'F', 'D', 'C'}\n"
     ]
    }
   ],
   "source": [
    "\n",
    "def iterative_dfs(graph, start_node):\n",
    "    visited = set()\n",
    "    stack = [start_node]\n",
    "\n",
    "    while stack:\n",
    "        node = stack.pop()\n",
    "        if node not in visited:\n",
    "            visited.add(node)\n",
    "            # Add neighbors to the stack\n",
    "            for neighbor in graph[node]:\n",
    "                if neighbor not in visited:\n",
    "                    stack.append(neighbor)\n",
    "    return visited\n",
    "\n",
    "\n",
    "def recursive_dfs(graph, node, visited=None):\n",
    "    if visited is None:\n",
    "        visited = set()\n",
    "    visited.add(node)\n",
    "    \n",
    "    for neighbor in graph[node]:\n",
    "        if neighbor not in visited:\n",
    "            recursive_dfs(graph, neighbor, visited)\n",
    "    \n",
    "    return visited\n",
    "\n",
    "# Define a simple graph using an adjacency list\n",
    "graph = {\n",
    "    'A': ['B', 'C'],\n",
    "    'B': ['A', 'D', 'E'],\n",
    "    'C': ['A', 'F'],\n",
    "    'D': ['B'],\n",
    "    'E': ['B', 'F'],\n",
    "    'F': ['C', 'E']\n",
    "}\n",
    "\n",
    "# Test case 1: Iterative DFS\n",
    "iterative_result = iterative_dfs(graph, 'A')\n",
    "print(\"Iterative DFS:\", iterative_result)\n",
    "\n",
    "# Test case 2: Recursive DFS\n",
    "recursive_result = recursive_dfs(graph, 'A')\n",
    "print(\"Recursive DFS:\", recursive_result)\n",
    "\n",
    "# Test case 3: Both methods should produce the same result for the same graph and start node\n",
    "assert iterative_result == recursive_result, \"Iterative and Recursive DFS results should match\"\n",
    "\n",
    "# Test case 4: Start from a different node\n",
    "iterative_result_b = iterative_dfs(graph, 'B')\n",
    "recursive_result_b = recursive_dfs(graph, 'B')\n",
    "print(\"Iterative DFS from B:\", iterative_result_b)\n",
    "print(\"Recursive DFS from B:\", recursive_result_b)\n",
    "\n",
    "assert iterative_result_b == recursive_result_b, \"Iterative and Recursive DFS results should match\"\n",
    "\n"
   ]
  },
  {
   "cell_type": "markdown",
   "id": "f9ec502c-5bca-4890-a36c-c8af58f34914",
   "metadata": {},
   "source": [
    "#### BFS\n"
   ]
  },
  {
   "cell_type": "code",
   "execution_count": 12,
   "id": "2e436cf8-e920-43d4-b662-f457b53a1a7b",
   "metadata": {},
   "outputs": [
    {
     "name": "stdout",
     "output_type": "stream",
     "text": [
      "Iterative BFS: {'A', 'B', 'E', 'F', 'D', 'C'}\n",
      "Recursive BFS: {'A', 'B', 'E', 'F', 'D', 'C'}\n",
      "Iterative BFS from B: {'A', 'B', 'E', 'F', 'D', 'C'}\n",
      "Recursive BFS from B: {'A', 'B', 'E', 'F', 'D', 'C'}\n"
     ]
    }
   ],
   "source": [
    "from collections import deque\n",
    "\n",
    "def iterative_bfs(graph, start_node):\n",
    "    visited = set()\n",
    "    queue = deque([start_node])\n",
    "\n",
    "    while queue:\n",
    "        node = queue.popleft()\n",
    "        if node not in visited:\n",
    "            visited.add(node)\n",
    "            # Add neighbors to the queue\n",
    "            for neighbor in graph[node]:\n",
    "                if neighbor not in visited:\n",
    "                    queue.append(neighbor)\n",
    "    return visited\n",
    "\n",
    "def recursive_bfs_aux(graph, queue, visited):\n",
    "    if not queue:\n",
    "        return visited\n",
    "    \n",
    "    node = queue.popleft()\n",
    "    visited.add(node)\n",
    "    \n",
    "    for neighbor in graph[node]:\n",
    "        if neighbor not in visited and neighbor not in queue:\n",
    "            queue.append(neighbor)\n",
    "    \n",
    "    return recursive_bfs_aux(graph, queue, visited)\n",
    "\n",
    "def recursive_bfs(graph, start_node):\n",
    "    visited = set()\n",
    "    queue = deque([start_node])\n",
    "    return recursive_bfs_aux(graph, queue, visited)\n",
    "\n",
    "# Define a simple graph using an adjacency list\n",
    "graph = {\n",
    "    'A': ['B', 'C'],\n",
    "    'B': ['A', 'D', 'E'],\n",
    "    'C': ['A', 'F'],\n",
    "    'D': ['B'],\n",
    "    'E': ['B', 'F'],\n",
    "    'F': ['C', 'E']\n",
    "}\n",
    "\n",
    "# Test case 1: Iterative BFS\n",
    "iterative_result = iterative_bfs(graph, 'A')\n",
    "print(\"Iterative BFS:\", iterative_result)\n",
    "\n",
    "# Test case 2: Recursive BFS\n",
    "recursive_result = recursive_bfs(graph, 'A')\n",
    "print(\"Recursive BFS:\", recursive_result)\n",
    "\n",
    "# Test case 3: Both methods should produce the same result for the same graph and start node\n",
    "assert iterative_result == recursive_result, \"Iterative and Recursive BFS results should match\"\n",
    "\n",
    "# Test case 4: Start from a different node\n",
    "iterative_result_b = iterative_bfs(graph, 'B')\n",
    "recursive_result_b = recursive_bfs(graph, 'B')\n",
    "print(\"Iterative BFS from B:\", iterative_result_b)\n",
    "print(\"Recursive BFS from B:\", recursive_result_b)\n",
    "\n",
    "assert iterative_result_b == recursive_result_b, \"Iterative and Recursive BFS results should match\"\n"
   ]
  },
  {
   "cell_type": "markdown",
   "id": "2d4fb2f1-d168-4560-aca4-ca1133b23acf",
   "metadata": {},
   "source": [
    "## Binary Search"
   ]
  },
  {
   "cell_type": "code",
   "execution_count": 13,
   "id": "6c8d1325-9f64-41c4-b36c-5e14538e1017",
   "metadata": {},
   "outputs": [
    {
     "name": "stdout",
     "output_type": "stream",
     "text": [
      "Iterative Binary Search for 7: 3\n",
      "Recursive Binary Search for 7: 3\n",
      "Iterative Binary Search for 4: -1\n",
      "Recursive Binary Search for 4: -1\n"
     ]
    }
   ],
   "source": [
    "def iterative_binary_search(arr, target):\n",
    "    left, right = 0, len(arr) - 1\n",
    "\n",
    "    while left <= right:\n",
    "        mid = (left + right) // 2\n",
    "\n",
    "        if arr[mid] == target:\n",
    "            return mid\n",
    "        elif arr[mid] < target:\n",
    "            left = mid + 1\n",
    "        else:\n",
    "            right = mid - 1\n",
    "\n",
    "    return -1  # Target not found\n",
    "\n",
    "def recursive_binary_search(arr, target, left, right):\n",
    "    if left > right:\n",
    "        return -1  # Target not found\n",
    "\n",
    "    mid = (left + right) // 2\n",
    "\n",
    "    if arr[mid] == target:\n",
    "        return mid\n",
    "    elif arr[mid] < target:\n",
    "        return recursive_binary_search(arr, target, mid + 1, right)\n",
    "    else:\n",
    "        return recursive_binary_search(arr, target, left, mid - 1)\n",
    "\n",
    "arr = [1, 3, 5, 7, 9, 11, 13, 15]\n",
    "\n",
    "# Test case 1: Iterative Binary Search\n",
    "iterative_result = iterative_binary_search(arr, 7)\n",
    "print(\"Iterative Binary Search for 7:\", iterative_result)  # Should print index 3\n",
    "\n",
    "# Test case 2: Recursive Binary Search\n",
    "recursive_result = recursive_binary_search(arr, 7, 0, len(arr) - 1)\n",
    "print(\"Recursive Binary Search for 7:\", recursive_result)  # Should print index 3\n",
    "\n",
    "# Test case 3: Target not found\n",
    "iterative_not_found = iterative_binary_search(arr, 4)\n",
    "recursive_not_found = recursive_binary_search(arr, 4, 0, len(arr) - 1)\n",
    "print(\"Iterative Binary Search for 4:\", iterative_not_found)  # Should print -1\n",
    "print(\"Recursive Binary Search for 4:\", recursive_not_found)  # Should print -1\n"
   ]
  },
  {
   "attachments": {},
   "cell_type": "markdown",
   "id": "fac0804b-5773-4305-9158-6d688e3735ca",
   "metadata": {},
   "source": [
    "## Common DSA questions asked during DE interviews\n",
    "\n",
    "These problems are taken from `Blind 75` and based on common questions during data engineering interviews. The topic segmentation is based on [Neetcode](https://neetcode.io/practice).\n",
    "\n",
    "Do the exercises in the order shown below!\n",
    "\n",
    "You should be able to complete the problems in this section in under 15 minutes per problem. \n",
    "\n",
    "**Practice these problems multiple times until you can do them in under 15 minutes without looking at the solutions!!**\n",
    "\n",
    "### Intervals\n",
    "\n",
    "1. [Insert interval](https://leetcode.com/problems/insert-interval/description/)\n",
    "2. [Merge intervals](https://leetcode.com/problems/merge-intervals/)\n",
    "3. [Nonoverlapping intervals](https://leetcode.com/problems/non-overlapping-intervals/description/)\n",
    "\n",
    "### Graph\n",
    "\n",
    "1. [Number of Islands](https://leetcode.com/problems/number-of-islands/description/)\n",
    "2. [Number of Connected Components](https://leetcode.com/problems/number-of-connected-components-in-an-undirected-graph/description/)\n",
    "3. [Course Schedule](https://leetcode.com/problems/course-schedule/)\n",
    "\n",
    "### Two Pointers\n",
    "\n",
    "1. [Container with most water](https://leetcode.com/problems/container-with-most-water/description/)\n",
    "2. [3Sum](https://leetcode.com/problems/3sum/)\n",
    "3. [Valid Palindrome](https://leetcode.com/problems/valid-palindrome/)\n",
    "\n",
    "### Array & Hashing\n",
    "\n",
    "1. [Contains Duplicate](https://leetcode.com/problems/contains-duplicate/)\n",
    "2. [Valid Anagram](https://leetcode.com/problems/valid-anagram/description/)\n",
    "3. [Two Sum](https://leetcode.com/problems/two-sum/description/)\n",
    "4. [Top K Frequent Elements](https://leetcode.com/problems/top-k-frequent-elements/description/)\n",
    "5. [Longest Consecutive Sequence](https://leetcode.com/problems/longest-consecutive-sequence/)\n",
    "\n",
    "### Stacks\n",
    "\n",
    "1. [Validate parenthesis](https://leetcode.com/problems/valid-parentheses/description/)\n",
    "\n",
    "### Sliding Window\n",
    "\n",
    "1. [Best time to buy and sell stock](https://leetcode.com/problems/best-time-to-buy-and-sell-stock/)\n",
    "\n",
    "### Linkedin List\n",
    "\n",
    "1. [Reverse Linkedin List](https://leetcode.com/problems/reverse-linked-list/description/)\n",
    "2. [Merge 2 Sorted List](https://leetcode.com/problems/merge-two-sorted-lists/)\n",
    "3. [Linked List Cycle](https://leetcode.com/problems/linked-list-cycle/description/)\n",
    "4. [Merge K sorted List](https://leetcode.com/problems/merge-k-sorted-lists/description/)\n",
    "\n",
    "### Tree\n",
    "\n",
    "1. [Invert a binary tree](https://leetcode.com/problems/invert-binary-tree/description/)\n",
    "2. [Depth of a binary tree](https://leetcode.com/problems/maximum-depth-of-binary-tree/description/)\n",
    "3. [Subtree of a binary tree]()\n",
    "4. [LCA in BST](https://leetcode.com/problems/lowest-common-ancestor-of-a-binary-search-tree/)\n",
    "5. [Serialize and deserialize Binary Tree](https://leetcode.com/problems/serialize-and-deserialize-binary-tree/description/)\n",
    "\n",
    "### Heap\n",
    "\n",
    "1. [Find median in a datastream](https://leetcode.com/problems/find-median-from-data-stream/)\n",
    "\n",
    "### Dynamic Programming\n",
    "\n",
    "1. [Coin change](https://leetcode.com/problems/coin-change/)\n",
    "2. [House robber](https://leetcode.com/problems/house-robber/)\n",
    "3. [Decode Ways](https://leetcode.com/problems/decode-ways/)\n",
    "\n",
    "### Construct data structures\n",
    "\n",
    "1. [LRU Cache](https://leetcode.com/problems/lru-cache/description/)\n",
    "2. [Circular queue](https://leetcode.com/problems/design-circular-queue/description/)\n",
    "\n",
    "\n",
    "\n",
    "\n",
    "## Company specific problems\n",
    "\n",
    "Search for company specific problems on\n",
    "\n",
    "1. [Leetcode](https://leetcode.com/problemset/)\n",
    "2. [TeamBlind](https://www.teamblind.com/)\n",
    "3. [Glassdoor](https://www.glassdoor.com/index.htm)\n",
    "\n",
    "Sort by latest and do as much of them as possible"
   ]
  },
  {
   "cell_type": "code",
   "execution_count": 5,
   "id": "896e94e3-6614-4978-94a7-b372fe7ab083",
   "metadata": {},
   "outputs": [
    {
     "data": {
      "text/plain": [
       "\u001b[0;31mSignature:\u001b[0m \u001b[0mstr\u001b[0m\u001b[0;34m.\u001b[0m\u001b[0misalpha\u001b[0m\u001b[0;34m(\u001b[0m\u001b[0mself\u001b[0m\u001b[0;34m,\u001b[0m \u001b[0;34m/\u001b[0m\u001b[0;34m)\u001b[0m\u001b[0;34m\u001b[0m\u001b[0;34m\u001b[0m\u001b[0m\n",
       "\u001b[0;31mDocstring:\u001b[0m\n",
       "Return True if the string is an alphabetic string, False otherwise.\n",
       "\n",
       "A string is alphabetic if all characters in the string are alphabetic and there\n",
       "is at least one character in the string.\n",
       "\u001b[0;31mType:\u001b[0m      method_descriptor"
      ]
     },
     "metadata": {},
     "output_type": "display_data"
    }
   ],
   "source": [
    "str.isalpha?"
   ]
  },
  {
   "cell_type": "code",
   "execution_count": 6,
   "id": "d10d1593-6393-4d89-8433-f8aee51a1336",
   "metadata": {},
   "outputs": [
    {
     "data": {
      "text/plain": [
       "5.5"
      ]
     },
     "execution_count": 6,
     "metadata": {},
     "output_type": "execute_result"
    }
   ],
   "source": [
    "11/2"
   ]
  },
  {
   "cell_type": "code",
   "execution_count": 7,
   "id": "6f83a815-0835-4d94-ac09-0780cd6a7162",
   "metadata": {},
   "outputs": [
    {
     "data": {
      "text/plain": [
       "5"
      ]
     },
     "execution_count": 7,
     "metadata": {},
     "output_type": "execute_result"
    }
   ],
   "source": [
    "11//2"
   ]
  },
  {
   "cell_type": "code",
   "execution_count": 9,
   "id": "08aa7e18-833f-4bbf-9b77-d1ccffad4376",
   "metadata": {},
   "outputs": [
    {
     "data": {
      "text/plain": [
       "-inf"
      ]
     },
     "execution_count": 9,
     "metadata": {},
     "output_type": "execute_result"
    }
   ],
   "source": [
    "-1 * float(\"inf\")"
   ]
  },
  {
   "cell_type": "code",
   "execution_count": null,
   "id": "f0b7210e-4e5a-459a-bf94-b344fd5f3cf7",
   "metadata": {},
   "outputs": [],
   "source": []
  }
 ],
 "metadata": {
  "kernelspec": {
   "display_name": "Python 3 (ipykernel)",
   "language": "python",
   "name": "python3"
  },
  "language_info": {
   "codemirror_mode": {
    "name": "ipython",
    "version": 3
   },
   "file_extension": ".py",
   "mimetype": "text/x-python",
   "name": "python",
   "nbconvert_exporter": "python",
   "pygments_lexer": "ipython3",
   "version": "3.12.4"
  }
 },
 "nbformat": 4,
 "nbformat_minor": 5
}
