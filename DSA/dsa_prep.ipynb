{
 "cells": [
  {
   "cell_type": "markdown",
   "id": "f7e36425-396e-47f6-b5f4-444527541874",
   "metadata": {},
   "source": [
    "# DSA Prep"
   ]
  },
  {
   "cell_type": "markdown",
   "id": "a22e5641-d10f-4f64-9cb5-81f5914c386b",
   "metadata": {
    "jp-MarkdownHeadingCollapsed": true
   },
   "source": [
    "## Basics Data Structures"
   ]
  },
  {
   "cell_type": "markdown",
   "id": "2a8d5faa-a660-4ec1-b1e1-02cc5c186b31",
   "metadata": {},
   "source": [
    "### List\n",
    "\n",
    "**Description:** A list is a dynamic array that allows you to store a sequence of elements. It supports indexing, slicing, and various methods for manipulating the data.\n",
    "\n",
    "**Time Complexity:**\n",
    "1. Read: O(1) - Accessing an element by index is fast and takes constant time.\n",
    "2. Write: O(1) - Appending an element is usually O(1), but inserting or removing can be O(n) due to shifting elements."
   ]
  },
  {
   "cell_type": "code",
   "execution_count": 3,
   "id": "989d8b6a-09dd-4bba-8605-6615f2cc3b44",
   "metadata": {},
   "outputs": [
    {
     "name": "stdout",
     "output_type": "stream",
     "text": [
      "[1, 2, 4, 5, 6]\n"
     ]
    }
   ],
   "source": [
    "my_list = [1, 2, 3, 4, 5]\n",
    "# Accessing an element\n",
    "element = my_list[2]  # element = 3\n",
    "\n",
    "# Adding an element\n",
    "my_list.append(6)  # my_list = [1, 2, 3, 4, 5, 6]\n",
    "\n",
    "# Removing an element\n",
    "my_list.remove(3)  # my_list = [1, 2, 4, 5, 6]\n",
    "print(my_list)"
   ]
  },
  {
   "cell_type": "markdown",
   "id": "063fe3d0-e213-4952-b64a-6559d00687a5",
   "metadata": {},
   "source": [
    "### Dictionary\n",
    "\n",
    "**Description:** A dictionary is an unordered collection of key-value pairs. It allows for fast lookups, insertions, and deletions based on keys.\n",
    "\n",
    "**Time Complexity:**\n",
    "1. Read: O(1) - Accessing a value by key is fast due to the underlying hash table.\n",
    "2. Write: O(1) - Inserting or deleting a key-value pair is also fast, thanks to the hash table.\n"
   ]
  },
  {
   "cell_type": "code",
   "execution_count": 5,
   "id": "5f85155a-cafa-45bd-9003-1e855eba2b7e",
   "metadata": {},
   "outputs": [
    {
     "name": "stdout",
     "output_type": "stream",
     "text": [
      "{'b': 2, 'c': 3, 'd': 4}\n"
     ]
    }
   ],
   "source": [
    "my_dict = {'a': 1, 'b': 2, 'c': 3}\n",
    "# Accessing a value\n",
    "value = my_dict['b']  # value = 2\n",
    "\n",
    "# Adding a key-value pair\n",
    "my_dict['d'] = 4  # my_dict = {'a': 1, 'b': 2, 'c': 3, 'd': 4}\n",
    "\n",
    "# Removing a key-value pair\n",
    "del my_dict['a']  # my_dict = {'b': 2, 'c': 3, 'd': 4}\n",
    "print(my_dict)"
   ]
  },
  {
   "cell_type": "markdown",
   "id": "bebbfe20-d92e-422a-a7ed-8fbf282ad3af",
   "metadata": {},
   "source": [
    "### Queue\n",
    "\n",
    "**Description:** A queue is a linear data structure that follows the First-In-First-Out (FIFO) principle. Elements are added at the rear and removed from the front.\n",
    "\n",
    "**Time Complexity:**\n",
    "1. Read: O(1) - Accessing the front element is O(1) if using deque.\n",
    "2. Write: O(1) - Enqueuing (adding) and dequeuing (removing) operations are O(1) with deque."
   ]
  },
  {
   "cell_type": "code",
   "execution_count": 7,
   "id": "6cca6e38-f2d6-4633-b223-93bf7b40b9d5",
   "metadata": {},
   "outputs": [
    {
     "name": "stdout",
     "output_type": "stream",
     "text": [
      "The poped element is 1 and the remainign queue is deque([2, 3, 4])\n"
     ]
    }
   ],
   "source": [
    "from collections import deque\n",
    "\n",
    "queue = deque([1, 2, 3])\n",
    "# Adding an element\n",
    "queue.append(4)  # queue = deque([1, 2, 3, 4])\n",
    "\n",
    "# Removing an element\n",
    "element = queue.popleft()  # element = 1, queue = deque([2, 3, 4])\n",
    "print(f'The poped element is {element} and the remaining queue is {queue}')"
   ]
  },
  {
   "cell_type": "markdown",
   "id": "cb0255e5-ccd8-4527-80ef-ef0e55056115",
   "metadata": {},
   "source": [
    "### Stack\n",
    "\n",
    "**Description:** A stack is a linear data structure that follows the Last-In-First-Out (LIFO) principle. Elements are added and removed from the top.\n",
    "\n",
    "**Time Complexity:**\n",
    "1. Read: O(1) - Accessing the top element is O(1).\n",
    "2. Write: O(1) - Pushing (adding) and popping (removing) elements are O(1)."
   ]
  },
  {
   "cell_type": "code",
   "execution_count": 9,
   "id": "fd823fc4-851b-4fa0-8ef8-06e5cca832c0",
   "metadata": {},
   "outputs": [
    {
     "name": "stdout",
     "output_type": "stream",
     "text": [
      "The poped element is 4 and the remaining stack is [1, 2, 3]\n"
     ]
    }
   ],
   "source": [
    "stack = [1, 2, 3]\n",
    "# Adding an element (push)\n",
    "stack.append(4)  # stack = [1, 2, 3, 4]\n",
    "\n",
    "# Removing an element (pop)\n",
    "element = stack.pop()  # element = 4, stack = [1, 2, 3]\n",
    "print(f'The poped element is {element} and the remaining stack is {stack}')"
   ]
  },
  {
   "cell_type": "markdown",
   "id": "9362fe97-f8eb-4453-9142-339d6923a6a5",
   "metadata": {},
   "source": [
    "### Counter (from collections module)\n",
    "\n",
    "**Description:** Counter is a subclass of the dictionary in Python that helps count hashable objects. It is especially useful for counting the frequency of elements in an iterable.\n"
   ]
  },
  {
   "cell_type": "code",
   "execution_count": 10,
   "id": "e7fbd3bd-61e3-490a-9e7c-819622b54315",
   "metadata": {},
   "outputs": [
    {
     "name": "stdout",
     "output_type": "stream",
     "text": [
      "Counter({'apple': 3, 'banana': 2, 'orange': 1})\n"
     ]
    }
   ],
   "source": [
    "from collections import Counter\n",
    "\n",
    "# Creating a Counter from a list\n",
    "my_counter = Counter(['apple', 'banana', 'apple', 'orange', 'banana', 'apple'])\n",
    "\n",
    "print(my_counter)"
   ]
  },
  {
   "cell_type": "markdown",
   "id": "aa04a113-76cd-4ba3-b01a-32cd22f8ec60",
   "metadata": {},
   "source": [
    "## Common patterns"
   ]
  },
  {
   "cell_type": "markdown",
   "id": "21b4d15f-2d2f-44ca-8561-c29182e9146b",
   "metadata": {},
   "source": [
    "### Array & Hashing"
   ]
  },
  {
   "cell_type": "markdown",
   "id": "4c8dc1e1-2757-4dfa-92db-cb6d4a40c3c8",
   "metadata": {},
   "source": [
    "### Two Pointers\n"
   ]
  },
  {
   "cell_type": "markdown",
   "id": "6c53c613-f6e2-4a4d-ae3a-4ab3f6c90933",
   "metadata": {},
   "source": [
    "### Sliding Window"
   ]
  },
  {
   "cell_type": "markdown",
   "id": "aaae0946-c14a-46d0-907c-e56b15744255",
   "metadata": {},
   "source": [
    "### Stacks\n"
   ]
  },
  {
   "cell_type": "markdown",
   "id": "9cfc1e71-9765-48ca-9f7b-48c00ec132e8",
   "metadata": {},
   "source": [
    "### Binary Search"
   ]
  },
  {
   "cell_type": "markdown",
   "id": "ff818d1a-5a8a-4084-8a03-c2cbd1da2ad5",
   "metadata": {},
   "source": [
    "### Linkedin List"
   ]
  },
  {
   "cell_type": "markdown",
   "id": "42c24eca-4c9b-4637-84ad-51d25b6589a4",
   "metadata": {},
   "source": [
    "### Tree"
   ]
  },
  {
   "cell_type": "markdown",
   "id": "52498ae9-ab38-418e-af3e-ee2090b22d25",
   "metadata": {},
   "source": [
    "### Intervals"
   ]
  },
  {
   "cell_type": "markdown",
   "id": "59c262fe-bc85-467c-93ea-d228a4a141d4",
   "metadata": {},
   "source": [
    "### Graph"
   ]
  },
  {
   "cell_type": "markdown",
   "id": "b738e66b-30d7-4bef-9f04-f694f343d95a",
   "metadata": {},
   "source": [
    "### Dynamic Programming"
   ]
  },
  {
   "cell_type": "markdown",
   "id": "d1f62bd8-8c91-4279-b5d9-8403a53ec4a4",
   "metadata": {},
   "source": [
    "### Construct data structures"
   ]
  },
  {
   "cell_type": "markdown",
   "id": "8df2e23e-b195-4bad-af9e-978acb5fa408",
   "metadata": {},
   "source": [
    "## Company specific problems"
   ]
  }
 ],
 "metadata": {
  "kernelspec": {
   "display_name": "Python 3 (ipykernel)",
   "language": "python",
   "name": "python3"
  },
  "language_info": {
   "codemirror_mode": {
    "name": "ipython",
    "version": 3
   },
   "file_extension": ".py",
   "mimetype": "text/x-python",
   "name": "python",
   "nbconvert_exporter": "python",
   "pygments_lexer": "ipython3",
   "version": "3.12.4"
  }
 },
 "nbformat": 4,
 "nbformat_minor": 5
}
