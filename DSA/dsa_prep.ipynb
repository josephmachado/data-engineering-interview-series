{
 "cells": [
  {
   "cell_type": "markdown",
   "id": "f7e36425-396e-47f6-b5f4-444527541874",
   "metadata": {},
   "source": [
    "# DSA Prep"
   ]
  },
  {
   "cell_type": "markdown",
   "id": "a22e5641-d10f-4f64-9cb5-81f5914c386b",
   "metadata": {},
   "source": [
    "## Basics Data Structures"
   ]
  },
  {
   "cell_type": "markdown",
   "id": "aa04a113-76cd-4ba3-b01a-32cd22f8ec60",
   "metadata": {},
   "source": [
    "## Common patterns"
   ]
  },
  {
   "cell_type": "markdown",
   "id": "21b4d15f-2d2f-44ca-8561-c29182e9146b",
   "metadata": {},
   "source": [
    "### Array & Hashing"
   ]
  },
  {
   "cell_type": "markdown",
   "id": "4c8dc1e1-2757-4dfa-92db-cb6d4a40c3c8",
   "metadata": {},
   "source": [
    "### Two Pointers\n"
   ]
  },
  {
   "cell_type": "markdown",
   "id": "6c53c613-f6e2-4a4d-ae3a-4ab3f6c90933",
   "metadata": {},
   "source": [
    "### Sliding Window"
   ]
  },
  {
   "cell_type": "markdown",
   "id": "aaae0946-c14a-46d0-907c-e56b15744255",
   "metadata": {},
   "source": [
    "### Stacks\n"
   ]
  },
  {
   "cell_type": "markdown",
   "id": "9cfc1e71-9765-48ca-9f7b-48c00ec132e8",
   "metadata": {},
   "source": [
    "### Binary Search"
   ]
  },
  {
   "cell_type": "markdown",
   "id": "ff818d1a-5a8a-4084-8a03-c2cbd1da2ad5",
   "metadata": {},
   "source": [
    "### Linkedin List"
   ]
  },
  {
   "cell_type": "markdown",
   "id": "42c24eca-4c9b-4637-84ad-51d25b6589a4",
   "metadata": {},
   "source": [
    "### Tree"
   ]
  },
  {
   "cell_type": "markdown",
   "id": "52498ae9-ab38-418e-af3e-ee2090b22d25",
   "metadata": {},
   "source": [
    "### Intervals"
   ]
  },
  {
   "cell_type": "markdown",
   "id": "59c262fe-bc85-467c-93ea-d228a4a141d4",
   "metadata": {},
   "source": [
    "### Graph"
   ]
  },
  {
   "cell_type": "markdown",
   "id": "b738e66b-30d7-4bef-9f04-f694f343d95a",
   "metadata": {},
   "source": [
    "### Dynamic Programming"
   ]
  },
  {
   "cell_type": "markdown",
   "id": "d1f62bd8-8c91-4279-b5d9-8403a53ec4a4",
   "metadata": {},
   "source": [
    "### Construct data structures"
   ]
  },
  {
   "cell_type": "markdown",
   "id": "8df2e23e-b195-4bad-af9e-978acb5fa408",
   "metadata": {},
   "source": [
    "## Company specific problems"
   ]
  }
 ],
 "metadata": {
  "kernelspec": {
   "display_name": "Python 3 (ipykernel)",
   "language": "python",
   "name": "python3"
  },
  "language_info": {
   "codemirror_mode": {
    "name": "ipython",
    "version": 3
   },
   "file_extension": ".py",
   "mimetype": "text/x-python",
   "name": "python",
   "nbconvert_exporter": "python",
   "pygments_lexer": "ipython3",
   "version": "3.12.4"
  }
 },
 "nbformat": 4,
 "nbformat_minor": 5
}
