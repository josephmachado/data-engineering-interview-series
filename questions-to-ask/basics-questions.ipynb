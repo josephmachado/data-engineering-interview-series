{
 "cells": [
  {
   "cell_type": "markdown",
   "id": "8570face-10cd-4387-9cbc-a8db21d5c0fc",
   "metadata": {},
   "source": [
    "## Basic questions across companies"
   ]
  },
  {
   "cell_type": "markdown",
   "id": "ce03d5a9-fc51-4272-8092-4784250d80aa",
   "metadata": {},
   "source": [
    "### 1. Tech\n",
    "\n",
    "1. Dev workflow, CI/CD, local testing, separate environments\n",
    "2. Data quality & amount of time spent debugging adhoc asks\n",
    "3. Monitoring & alerting\n",
    "4. Tool/languages/frameworks used, unnecessary complexity here will make dev lives very difficult\n",
    "5. what percentage of my time will be investigating adhoc data questions/issues?\n",
    "6. ELI5, what is the data used for and where is it from?\n",
    "7. How long has the company had this current tech stack? If moved recently why? Is there a specific reason for the move (dev ex, perf, ease of maintenance, etc)\n",
    "8. Is architecture documented?\n",
    "\n"
   ]
  },
  {
   "cell_type": "markdown",
   "id": "e859e9cb-5af9-46ea-8d40-d3b4a5c7044b",
   "metadata": {},
   "source": [
    "### 2. On call\n",
    "1. When was the last prod bug, what was the impact, how quick was it fixed? Was a proper fix put in place?\n",
    "2. How often prod bugs?\n",
    "3. What is the on call shift\n"
   ]
  },
  {
   "cell_type": "markdown",
   "id": "4beca955-721b-477c-acc1-60acdbded317",
   "metadata": {},
   "source": [
    "### 3. New feature dev process\n",
    "1. Who proposes features? What is the process, experimental or RFC driven\n",
    "2. How is a new feature/change of tool consensus reached? What are the measurements used to get there?\n"
   ]
  },
  {
   "cell_type": "markdown",
   "id": "858a2d54-7ae0-4630-95a8-bdff79050d5e",
   "metadata": {},
   "source": [
    "### 4. Measuring outcomes\n",
    "1. How is the team's success measured?\n",
    "2. Does the data have SLAs? (downtime, freshness, etc)\n",
    "3. How is personal success measured? If OKRs, can I see an example of a well defined OKR.\n",
    "4. What is the one thing data team can do to help end-users better? If there are any, are they being tracked and implemented?\n"
   ]
  },
  {
   "cell_type": "markdown",
   "id": "023c05ae-d6a5-447c-9eaa-c5623709d57c",
   "metadata": {},
   "source": [
    "### 5. Buy in with leadership\n",
    "1. Does the data team have a say with upstream teams? If so, can I get an example\n",
    "2. Who in the leadership does our team report to? What is their role and what do they care about?\n",
    "3. Example of a measurable OKR for the team\n",
    "4. How does our output impact the business bottom line\n"
   ]
  },
  {
   "cell_type": "markdown",
   "id": "e6b2ccbc-ca26-495e-8f99-191c0593f564",
   "metadata": {},
   "source": [
    "\n",
    "### 6. General\n",
    "1. How many hours of meeting per week on avg?\n",
    "2. Will I be able to set clearly defined & measurable goals (as opposed to being good at x) for promotions?\n",
    "3. How many team mates? What are their profiles?\n"
   ]
  },
  {
   "cell_type": "markdown",
   "id": "b1013f01-8325-4ad9-af79-8df23933aba5",
   "metadata": {},
   "source": [
    "\n",
    "These would be some of the questions to ask. I can't provide sample of \"good answers\" (besides some obvious ones) since it depends on your individual preferences.\n",
    "\n",
    "In addition I'd also recommend https://jvns.ca/blog/2013/12/30/questions-im-asking-in-interviews/ for list of more SWE type questions. Hope this helps. "
   ]
  }
 ],
 "metadata": {
  "kernelspec": {
   "display_name": "Python 3 (ipykernel)",
   "language": "python",
   "name": "python3"
  },
  "language_info": {
   "codemirror_mode": {
    "name": "ipython",
    "version": 3
   },
   "file_extension": ".py",
   "mimetype": "text/x-python",
   "name": "python",
   "nbconvert_exporter": "python",
   "pygments_lexer": "ipython3",
   "version": "3.12.4"
  }
 },
 "nbformat": 4,
 "nbformat_minor": 5
}
